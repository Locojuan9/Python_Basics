{
  "nbformat": 4,
  "nbformat_minor": 0,
  "metadata": {
    "colab": {
      "provenance": [],
      "include_colab_link": true
    },
    "kernelspec": {
      "name": "python3",
      "display_name": "Python 3"
    },
    "language_info": {
      "name": "python"
    }
  },
  "cells": [
    {
      "cell_type": "markdown",
      "metadata": {
        "id": "view-in-github",
        "colab_type": "text"
      },
      "source": [
        "<a href=\"https://colab.research.google.com/github/Locojuan9/Python_Basics/blob/main/2_Conditionals.ipynb\" target=\"_parent\"><img src=\"https://colab.research.google.com/assets/colab-badge.svg\" alt=\"Open In Colab\"/></a>"
      ]
    },
    {
      "cell_type": "markdown",
      "source": [
        "# Conditionals"
      ],
      "metadata": {
        "id": "VTg9sEC1C3SO"
      }
    },
    {
      "cell_type": "markdown",
      "source": [
        "To perform conditionals in Python, we need to consider that the indentation defines each section of code to be executed.\n",
        "\n",
        "We don't use curly braces or any separator here; instead, we control it with indentation using \"Tab\" characters.\n",
        "\n",
        "Additionally, both the \"if\" and \"else\" statements must end with a colon (not including them will result in a syntax error)."
      ],
      "metadata": {
        "id": "Rk_VXygMC7mm"
      }
    },
    {
      "cell_type": "code",
      "execution_count": 1,
      "metadata": {
        "colab": {
          "base_uri": "https://localhost:8080/"
        },
        "id": "W1DdfxlTCEjM",
        "outputId": "612d4967-57a6-4670-bbcf-b5e76c965a37"
      },
      "outputs": [
        {
          "output_type": "stream",
          "name": "stdout",
          "text": [
            "The condition is true.\n",
            "\n"
          ]
        }
      ],
      "source": [
        "a = True\n",
        "\n",
        "if a:\n",
        "  print(\"The condition is true.\\n\")#tab is included here\n",
        "else:\n",
        "  print(\"The condition is false.\\n\")#tab is included here"
      ]
    },
    {
      "cell_type": "code",
      "source": [
        "\n",
        "a = False\n",
        "\n",
        "if a:\n",
        "  print(\"The condition is true.\\n\")\n",
        "else:\n",
        "  print(\"The condition is false.\\n\")"
      ],
      "metadata": {
        "colab": {
          "base_uri": "https://localhost:8080/"
        },
        "id": "MQGsGj6xDu4n",
        "outputId": "60400d5d-14be-4b5a-b140-604b88f4ae7d"
      },
      "execution_count": 3,
      "outputs": [
        {
          "output_type": "stream",
          "name": "stdout",
          "text": [
            "The condition is false.\n",
            "\n"
          ]
        }
      ]
    },
    {
      "cell_type": "markdown",
      "source": [
        "Recalling that boolean variables have their equivalent in integers, we could also perform the conditional in the following way:"
      ],
      "metadata": {
        "id": "frC0vy0CDxxC"
      }
    },
    {
      "cell_type": "code",
      "source": [
        "a = 5\n",
        "\n",
        "if a: #a as an int variable\n",
        "  print(\"The condition is true.\\n\")\n",
        "else:\n",
        "  print(\"The condition is false.\\n\")"
      ],
      "metadata": {
        "colab": {
          "base_uri": "https://localhost:8080/"
        },
        "id": "xyRIhIhvD6Pa",
        "outputId": "a271facb-7601-441a-ce9a-ebbc9ddc84b5"
      },
      "execution_count": 4,
      "outputs": [
        {
          "output_type": "stream",
          "name": "stdout",
          "text": [
            "The condition is true.\n",
            "\n"
          ]
        }
      ]
    },
    {
      "cell_type": "code",
      "source": [
        "a = 0\n",
        "\n",
        "if a:\n",
        "  print(\"The condition is true.\\n\")\n",
        "else:\n",
        "  print(\"The condition is false.\\n\")"
      ],
      "metadata": {
        "colab": {
          "base_uri": "https://localhost:8080/"
        },
        "id": "DbzDH0qwD8QQ",
        "outputId": "2aac6a82-76a8-440a-d3e3-09d1a62fcf1e"
      },
      "execution_count": 5,
      "outputs": [
        {
          "output_type": "stream",
          "name": "stdout",
          "text": [
            "The condition is false.\n",
            "\n"
          ]
        }
      ]
    },
    {
      "cell_type": "markdown",
      "source": [
        "\n",
        "Many times it is necessary to use nested if statements. For this, the \"elif\" statement is very useful."
      ],
      "metadata": {
        "id": "fNWEc7KmEDj4"
      }
    },
    {
      "cell_type": "code",
      "source": [
        "\n",
        "a = True\n",
        "b = True\n",
        "\n",
        "if a:\n",
        "  print(\"Condition 1 is true.\\n\")\n",
        "elif b:\n",
        "  print(\"Condition 2 is true.\\n\")\n"
      ],
      "metadata": {
        "colab": {
          "base_uri": "https://localhost:8080/"
        },
        "id": "OP3rdF2nD_eX",
        "outputId": "83ca6d18-f913-4483-80c7-0fc455266e12"
      },
      "execution_count": 6,
      "outputs": [
        {
          "output_type": "stream",
          "name": "stdout",
          "text": [
            "Condition 1 is true.\n",
            "\n"
          ]
        }
      ]
    },
    {
      "cell_type": "code",
      "source": [
        "a = False\n",
        "b = True\n",
        "\n",
        "if a:\n",
        "  print(\"Condition 1 is true.\\n\")\n",
        "elif b:\n",
        "  print(\"Condition 2 is true.\\n\")\n"
      ],
      "metadata": {
        "colab": {
          "base_uri": "https://localhost:8080/"
        },
        "id": "MAPP8N-GEuiO",
        "outputId": "8b412f0a-591e-4bf7-add2-0cd5259d2d8f"
      },
      "execution_count": 7,
      "outputs": [
        {
          "output_type": "stream",
          "name": "stdout",
          "text": [
            "Condition 2 is true.\n",
            "\n"
          ]
        }
      ]
    },
    {
      "cell_type": "markdown",
      "source": [
        "In this case, we first check if condition a is true, but if not, we don't directly print the second message. Instead, we now check if condition b is true or not (the second condition is only evaluated if the first one was not true).\n",
        "\n",
        "We can add an else statement at the end, which would be executed if none of the previous conditions are true (the final option)."
      ],
      "metadata": {
        "id": "MI1yZs1eExGO"
      }
    },
    {
      "cell_type": "code",
      "source": [
        "\n",
        "a = False\n",
        "b = True\n",
        "\n",
        "if a:\n",
        "  print(\"Condition 1 is true.\\n\")\n",
        "elif b:\n",
        "  print(\"Condition 2 is true.\\n\")\n",
        "else:\n",
        "  print(\"Both conditions are false.\\n\")"
      ],
      "metadata": {
        "colab": {
          "base_uri": "https://localhost:8080/"
        },
        "id": "FghUVGjVFRZM",
        "outputId": "987913a6-e6b8-49a9-bee3-fe4658ed6fad"
      },
      "execution_count": 8,
      "outputs": [
        {
          "output_type": "stream",
          "name": "stdout",
          "text": [
            "Condition 2 is true.\n",
            "\n"
          ]
        }
      ]
    },
    {
      "cell_type": "code",
      "source": [
        "\n",
        "a = False\n",
        "b = False\n",
        "\n",
        "if a:\n",
        "  print(\"Condition 1 is true.\\n\")\n",
        "elif b:\n",
        "  print(\"Condition 2 is true.\\n\")\n",
        "else:\n",
        "  print(\"Both conditions are false.\\n\")"
      ],
      "metadata": {
        "colab": {
          "base_uri": "https://localhost:8080/"
        },
        "id": "A5QLFL4VFZsQ",
        "outputId": "4678e649-cdf8-4a00-d7b9-2629dfb96175"
      },
      "execution_count": 9,
      "outputs": [
        {
          "output_type": "stream",
          "name": "stdout",
          "text": [
            "Both conditions are false.\n",
            "\n"
          ]
        }
      ]
    },
    {
      "cell_type": "markdown",
      "source": [
        "Similarly, we can directly nest the if statements if we only want the subsequent condition to be evaluated if the previous one is true."
      ],
      "metadata": {
        "id": "P9HDhYXtKX7K"
      }
    },
    {
      "cell_type": "code",
      "source": [
        "a = True\n",
        "b = True\n",
        "\n",
        "if a:\n",
        "  if b:\n",
        "    print(\"a and b are true.\\n\")#double tab is required here!\n",
        "  else:\n",
        "    print(\"a is true but b is false.\\n\")\n",
        "else:\n",
        "  print(\"a is not true.\\n\")"
      ],
      "metadata": {
        "colab": {
          "base_uri": "https://localhost:8080/"
        },
        "id": "AuBe0qhdKXU7",
        "outputId": "fe7c8b4b-2574-42d9-b1ca-b300f2ae8c1f"
      },
      "execution_count": 10,
      "outputs": [
        {
          "output_type": "stream",
          "name": "stdout",
          "text": [
            "a and b are true.\n",
            "\n"
          ]
        }
      ]
    },
    {
      "cell_type": "code",
      "source": [
        "a = False\n",
        "b = False\n",
        "\n",
        "if a:\n",
        "  if b:\n",
        "    print(\"a and b are true.\\n\")\n",
        "  else:\n",
        "    print(\"a is true but b is false.\\n\")\n",
        "else:\n",
        "  print(\"a is not true.\\n\")"
      ],
      "metadata": {
        "colab": {
          "base_uri": "https://localhost:8080/"
        },
        "id": "oxH42MDxLIvk",
        "outputId": "46ca5256-1be4-4bdd-849a-c9d9bacaaf4e"
      },
      "execution_count": 11,
      "outputs": [
        {
          "output_type": "stream",
          "name": "stdout",
          "text": [
            "a is not true.\n",
            "\n"
          ]
        }
      ]
    },
    {
      "cell_type": "code",
      "source": [
        "a = False\n",
        "b = False\n",
        "\n",
        "if a:\n",
        "  if b:\n",
        "    print(\"a and b are true.\\n\")\n",
        "  else:\n",
        "    print(\"a is true but b is false.\\n\")\n",
        "else:\n",
        "  print(\"a is not true.\\n\")"
      ],
      "metadata": {
        "colab": {
          "base_uri": "https://localhost:8080/"
        },
        "id": "CFjjpC7ILL7D",
        "outputId": "94cab3de-313b-4338-8502-d02c694d4b27"
      },
      "execution_count": 12,
      "outputs": [
        {
          "output_type": "stream",
          "name": "stdout",
          "text": [
            "a is not true.\n",
            "\n"
          ]
        }
      ]
    },
    {
      "cell_type": "code",
      "source": [
        "\n",
        "a = False\n",
        "b = True\n",
        "\n",
        "if a:\n",
        "  if b:\n",
        "    print(\"a and b are true.\\n\")\n",
        "  else:\n",
        "    print(\"a is true but b is false.\\n\")\n",
        "else:\n",
        "  print(\"a is not true.\\n\")"
      ],
      "metadata": {
        "colab": {
          "base_uri": "https://localhost:8080/"
        },
        "id": "2_WzD4IILR6D",
        "outputId": "7cbda39a-0ef4-41ff-c34c-f6c14a64a917"
      },
      "execution_count": 13,
      "outputs": [
        {
          "output_type": "stream",
          "name": "stdout",
          "text": [
            "a is not true.\n",
            "\n"
          ]
        }
      ]
    },
    {
      "cell_type": "markdown",
      "source": [
        "In other languages, the exclamation mark (!) can be used to evaluate the logical negation of a variable.\n",
        "\n",
        "In Python, we can use the keyword \"not\" before the variable to achieve the same effect."
      ],
      "metadata": {
        "id": "iVTrietnGmkB"
      }
    },
    {
      "cell_type": "code",
      "source": [
        "not True"
      ],
      "metadata": {
        "colab": {
          "base_uri": "https://localhost:8080/"
        },
        "id": "d9EjgT7nG76A",
        "outputId": "96c4c865-856d-45cb-fc1e-fb0235774792"
      },
      "execution_count": 14,
      "outputs": [
        {
          "output_type": "execute_result",
          "data": {
            "text/plain": [
              "False"
            ]
          },
          "metadata": {},
          "execution_count": 14
        }
      ]
    },
    {
      "cell_type": "code",
      "source": [
        "not False"
      ],
      "metadata": {
        "colab": {
          "base_uri": "https://localhost:8080/"
        },
        "id": "SuMYbT_JG9pK",
        "outputId": "25a4a380-6bae-44e4-e832-c7f66697958d"
      },
      "execution_count": 15,
      "outputs": [
        {
          "output_type": "execute_result",
          "data": {
            "text/plain": [
              "True"
            ]
          },
          "metadata": {},
          "execution_count": 15
        }
      ]
    },
    {
      "cell_type": "code",
      "source": [
        "not 8"
      ],
      "metadata": {
        "colab": {
          "base_uri": "https://localhost:8080/"
        },
        "id": "dHpVP55rG_Rl",
        "outputId": "fd8bf43f-43bb-45ca-d0ad-daa3bd80debf"
      },
      "execution_count": 16,
      "outputs": [
        {
          "output_type": "execute_result",
          "data": {
            "text/plain": [
              "False"
            ]
          },
          "metadata": {},
          "execution_count": 16
        }
      ]
    },
    {
      "cell_type": "code",
      "source": [
        "not 0"
      ],
      "metadata": {
        "colab": {
          "base_uri": "https://localhost:8080/"
        },
        "id": "x3dpCJ2jHBpH",
        "outputId": "5d775f34-4073-42f2-c96b-d13052ff1f06"
      },
      "execution_count": 17,
      "outputs": [
        {
          "output_type": "execute_result",
          "data": {
            "text/plain": [
              "True"
            ]
          },
          "metadata": {},
          "execution_count": 17
        }
      ]
    },
    {
      "cell_type": "code",
      "source": [
        "a = True\n",
        "b = True\n",
        "\n",
        "if not a:\n",
        "  print(\"Condition 1 is true.\\n\")\n",
        "elif b:\n",
        "  print(\"Condition 2 is true.\\n\")\n",
        "else:\n",
        "  print(\"Both conditions are false.\\n\")"
      ],
      "metadata": {
        "colab": {
          "base_uri": "https://localhost:8080/"
        },
        "id": "26Fu_3KhG0bC",
        "outputId": "f484566c-0cd0-4c4c-f6a7-cf46cf22de00"
      },
      "execution_count": 18,
      "outputs": [
        {
          "output_type": "stream",
          "name": "stdout",
          "text": [
            "Condition 2 is true.\n",
            "\n"
          ]
        }
      ]
    },
    {
      "cell_type": "markdown",
      "source": [
        "On the other hand, we don't always need to evaluate conditions separately but create logical expressions with them. For this purpose, we have the following operators:\n",
        "\n",
        ". Logical operators: \"or\", \"and\"\n",
        "\n",
        ". Comparison operators: <, >, <=, >=, ==, !="
      ],
      "metadata": {
        "id": "jMy5rePdFjNg"
      }
    },
    {
      "cell_type": "code",
      "source": [
        "a = False\n",
        "b = False\n",
        "\n",
        "if a or b:\n",
        "  print(\"At least one condition is true.\\n\")\n",
        "else:\n",
        "  print(\"It's not any value.\")"
      ],
      "metadata": {
        "colab": {
          "base_uri": "https://localhost:8080/"
        },
        "id": "wnuvPyZBHVgC",
        "outputId": "e27ade22-31d2-4699-e020-01a03f112a8d"
      },
      "execution_count": 19,
      "outputs": [
        {
          "output_type": "stream",
          "name": "stdout",
          "text": [
            "It's not any value.\n"
          ]
        }
      ]
    },
    {
      "cell_type": "code",
      "source": [
        "a = 3\n",
        "b = 4\n",
        "\n",
        "if a != b:\n",
        "  print(\"The numbers are different.\\n\")"
      ],
      "metadata": {
        "colab": {
          "base_uri": "https://localhost:8080/"
        },
        "id": "xPraa9wBHfR8",
        "outputId": "94db747d-2407-46c9-e94a-09c069c2aba9"
      },
      "execution_count": 20,
      "outputs": [
        {
          "output_type": "stream",
          "name": "stdout",
          "text": [
            "The numbers are different.\n",
            "\n"
          ]
        }
      ]
    },
    {
      "cell_type": "code",
      "source": [
        "a = 4\n",
        "b = 4\n",
        "\n",
        "if a == b:\n",
        "  print(\"The numbers are equal.\\n\")"
      ],
      "metadata": {
        "colab": {
          "base_uri": "https://localhost:8080/"
        },
        "id": "agG1ggz0IBuz",
        "outputId": "a1a7c433-595c-464a-8438-c3a0997918c7"
      },
      "execution_count": 21,
      "outputs": [
        {
          "output_type": "stream",
          "name": "stdout",
          "text": [
            "The numbers are equal.\n",
            "\n"
          ]
        }
      ]
    },
    {
      "cell_type": "code",
      "source": [
        "a = 1\n",
        "b = 2\n",
        "c = 3\n",
        "\n",
        "if a < b < c:\n",
        "  print(\"The order is ascending.\\n\")"
      ],
      "metadata": {
        "id": "2WlutQYmIIe3",
        "colab": {
          "base_uri": "https://localhost:8080/"
        },
        "outputId": "b4a40445-c163-4cc4-abdf-c7c0937dc076"
      },
      "execution_count": 22,
      "outputs": [
        {
          "output_type": "stream",
          "name": "stdout",
          "text": [
            "The order is ascending.\n",
            "\n"
          ]
        }
      ]
    },
    {
      "cell_type": "code",
      "source": [
        "a = 3\n",
        "b = 2\n",
        "c = 3\n",
        "\n",
        "if a < b < c:\n",
        "  print(\"The order is ascending.\\n\")\n",
        "else:\n",
        "  print(a + b + c)\n"
      ],
      "metadata": {
        "colab": {
          "base_uri": "https://localhost:8080/"
        },
        "id": "b3sQXrU0IThJ",
        "outputId": "a6936a63-edff-4285-cd63-fd5553dba14c"
      },
      "execution_count": 23,
      "outputs": [
        {
          "output_type": "stream",
          "name": "stdout",
          "text": [
            "8\n"
          ]
        }
      ]
    },
    {
      "cell_type": "markdown",
      "source": [
        "When multiple chained comparisons like the previous ones are performed, Python always evaluates them from left to right in pairs."
      ],
      "metadata": {
        "id": "AC2xrm2AIcic"
      }
    },
    {
      "cell_type": "markdown",
      "source": [
        "\n",
        "In more advanced applications, using lists, tuples, dictionaries, or classes, there are other ways to express conditions that are useful for tackling more complex problems.\n",
        "\n",
        "One quick example, not so complex, is the use of the keyword \"in,\" which is used for strings or arrays of numbers."
      ],
      "metadata": {
        "id": "mAsFtIP5IltC"
      }
    },
    {
      "cell_type": "code",
      "source": [
        "a = [1, 2, 3]\n",
        "b = 2\n",
        "\n",
        "if b in a:\n",
        "  print(\"a contains the value of b.\\n\")\n",
        "else:\n",
        "  print(\"a does not contain the value of b.\\n\")"
      ],
      "metadata": {
        "colab": {
          "base_uri": "https://localhost:8080/"
        },
        "id": "yrBhgY0mI9Ci",
        "outputId": "b29b5810-3203-45f9-d0e9-6e130c88ee18"
      },
      "execution_count": null,
      "outputs": [
        {
          "output_type": "stream",
          "name": "stdout",
          "text": [
            "a contains the value of b.\n",
            "\n"
          ]
        }
      ]
    },
    {
      "cell_type": "code",
      "source": [
        "a = [1, 2, 3]\n",
        "b = 4\n",
        "\n",
        "if b in a:\n",
        "  print(\"a contains the value of b.\\n\")\n",
        "else:\n",
        "  print(\"a does not contain the value of b.\\n\")"
      ],
      "metadata": {
        "colab": {
          "base_uri": "https://localhost:8080/"
        },
        "id": "GlFDLbP-JzM0",
        "outputId": "85bd4d57-9fcf-4579-b659-2783a64ab292"
      },
      "execution_count": null,
      "outputs": [
        {
          "output_type": "stream",
          "name": "stdout",
          "text": [
            "a does not contain the value of b.\n",
            "\n"
          ]
        }
      ]
    },
    {
      "cell_type": "code",
      "source": [
        "if(\"Hi\" in \"this is a good example\"):\n",
        "  print(\"Word found.\\n\")\n",
        "else:\n",
        "  print(\"Word not found\")"
      ],
      "metadata": {
        "colab": {
          "base_uri": "https://localhost:8080/"
        },
        "id": "mvgyY8s2J2jN",
        "outputId": "f33de744-f8c0-4e5d-f1ac-acaa64e3a536"
      },
      "execution_count": null,
      "outputs": [
        {
          "output_type": "stream",
          "name": "stdout",
          "text": [
            "Word not found\n"
          ]
        }
      ]
    },
    {
      "cell_type": "markdown",
      "source": [
        "\n",
        "## Exercises:\n",
        "\n",
        "1. In order to pay a certain tax, you must be over 16 years old and have a monthly income equal to or greater than €1000. Write a program that asks the user for their age and monthly income, and displays whether the user has to pay the tax or not.\n",
        "\n",
        "\n",
        "2. The Bella Napoli pizzeria offers vegetarian and non-vegetarian pizzas to its customers. The ingredients for each type of pizza are as follows:\n",
        "\n",
        "Vegetarian ingredients: Bell peppers and tofu.\n",
        "\n",
        "Non-vegetarian ingredients: Pepperoni, Ham, and Salmon.\n",
        "\n",
        "Write a program that asks the user if they want a vegetarian pizza or not, and based on their response, displays a menu with the available ingredients for them to choose from. Only one additional ingredient can be chosen besides the mozzarella and tomato, which are included in all pizzas. Finally, the program should display whether the chosen pizza is vegetarian or not, along with all the ingredients it contains."
      ],
      "metadata": {
        "id": "fO1RHJGAiIp2"
      }
    },
    {
      "cell_type": "markdown",
      "source": [
        "Developed by:\n",
        "\n",
        "- Brian Patino Agudelo - bpatinoa@unal.edu.co\n",
        "\n",
        "- Andrés Marino Álvarez Meza - amalvarezme@unal.edu.co\n",
        "\n",
        "- César Germán Castellanos Domínguez - cgcastellanosd@unal.edu.co"
      ],
      "metadata": {
        "id": "QQg2r04O174w"
      }
    },
    {
      "cell_type": "code",
      "source": [],
      "metadata": {
        "id": "KIWL9EGb7SIR"
      },
      "execution_count": null,
      "outputs": []
    }
  ]
}